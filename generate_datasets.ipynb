{
 "cells": [
  {
   "cell_type": "code",
   "execution_count": 1,
   "metadata": {},
   "outputs": [],
   "source": [
    "import sys\n",
    "sys.path.append('utils')\n",
    "import numpy as np"
   ]
  },
  {
   "cell_type": "code",
   "execution_count": 2,
   "metadata": {},
   "outputs": [],
   "source": [
    "from data_generator import generate_m_seqs, generate_m_seqs_nn"
   ]
  },
  {
   "cell_type": "code",
   "execution_count": 14,
   "metadata": {},
   "outputs": [],
   "source": [
    "for i in range(5):\n",
    "    sample = generate_m_seqs(200, 200, 1, 1+i, SGD=0)\n",
    "    np.save('dataset/Least_Squares_1d_GD/Sample_{}/sample.npy'.format(i+1), sample, allow_pickle=True)"
   ]
  },
  {
   "cell_type": "code",
   "execution_count": 16,
   "metadata": {},
   "outputs": [],
   "source": [
    "for i in range(5):\n",
    "    sample = generate_m_seqs(200, 200, 3, 1+i, SGD=0)\n",
    "    np.save('dataset/Least_Squares_3d_GD/Sample_{}/sample.npy'.format(i+1), sample, allow_pickle=True)"
   ]
  },
  {
   "cell_type": "code",
   "execution_count": 18,
   "metadata": {},
   "outputs": [],
   "source": [
    "for i in range(5):\n",
    "    sample = generate_m_seqs(200, 200, 1, 1+i, SGD=1)\n",
    "    np.save('dataset/Least_Squares_1d_SGD/Sample_{}/sample.npy'.format(i+1), sample, allow_pickle=True)"
   ]
  },
  {
   "cell_type": "code",
   "execution_count": 19,
   "metadata": {},
   "outputs": [],
   "source": [
    "for i in range(5):\n",
    "    sample = generate_m_seqs(200, 200, 3, 1+i, SGD=1)\n",
    "    np.save('dataset/Least_Squares_3d_SGD/Sample_{}/sample.npy'.format(i+1), sample, allow_pickle=True)"
   ]
  },
  {
   "cell_type": "code",
   "execution_count": 3,
   "metadata": {},
   "outputs": [
    {
     "name": "stderr",
     "output_type": "stream",
     "text": [
      "/home/shoux2/.conda/envs/ml/lib/python3.10/site-packages/tqdm/auto.py:21: TqdmWarning: IProgress not found. Please update jupyter and ipywidgets. See https://ipywidgets.readthedocs.io/en/stable/user_install.html\n",
      "  from .autonotebook import tqdm as notebook_tqdm\n"
     ]
    }
   ],
   "source": [
    "for i in range(5):\n",
    "    samplenn = generate_m_seqs_nn(200, 201, 1, i+1, 'SGD')\n",
    "    np.save('dataset/Neural_Network_1d_SGD/Sample_{}/sample.npy'.format(i+1), samplenn, allow_pickle=True)"
   ]
  },
  {
   "cell_type": "code",
   "execution_count": 4,
   "metadata": {},
   "outputs": [],
   "source": [
    "for i in range(5):\n",
    "    samplenn = generate_m_seqs_nn(200, 201, 1, i+1, 'Adam')\n",
    "    np.save('dataset/Neural_Network_1d_Adam/Sample_{}/sample.npy'.format(i+1), samplenn, allow_pickle=True)"
   ]
  },
  {
   "cell_type": "code",
   "execution_count": null,
   "metadata": {},
   "outputs": [],
   "source": []
  }
 ],
 "metadata": {
  "kernelspec": {
   "display_name": "Python [conda env:ml]",
   "language": "python",
   "name": "conda-env-ml-py"
  },
  "language_info": {
   "codemirror_mode": {
    "name": "ipython",
    "version": 3
   },
   "file_extension": ".py",
   "mimetype": "text/x-python",
   "name": "python",
   "nbconvert_exporter": "python",
   "pygments_lexer": "ipython3",
   "version": "3.10.14"
  }
 },
 "nbformat": 4,
 "nbformat_minor": 2
}
